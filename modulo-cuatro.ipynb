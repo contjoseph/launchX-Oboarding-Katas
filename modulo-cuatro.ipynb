{
 "cells": [
  {
   "cell_type": "markdown",
   "metadata": {},
   "source": [
    "# Katas del modulo cuatro creado por Jose A. Contreras"
   ]
  },
  {
   "cell_type": "markdown",
   "metadata": {},
   "source": [
    "## Ejercicio 1: Transformar cadenas"
   ]
  },
  {
   "cell_type": "code",
   "execution_count": 3,
   "metadata": {},
   "outputs": [
    {
     "name": "stdout",
     "output_type": "stream",
     "text": [
      "[' \\nOn average, the Moon moves 4cm away from the Earth every year', ' The highest daylight temperature of the Moon is 127 C']\n",
      " \n",
      "On average, the Moon moves 4cm away from the Earth every year\n",
      " The highest daylight temperature of the Moon is 127 Celcius\n"
     ]
    }
   ],
   "source": [
    "text = \"\"\"Interesting facts about the Moon. The Moon is Earth's only satellite. There are several interesting facts about the Moon and how it affects life here on Earth. \n",
    "On average, the Moon moves 4cm away from the Earth every year. This yearly drift is not significant enough to cause immediate effects on Earth. The highest daylight temperature of the Moon is 127 C.\"\"\"\n",
    "\n",
    "# Dividimos el texto en cada oracion. \n",
    "en_oraciones = text.split(\".\")\n",
    "\n",
    "# Define las palabras pista: average, temperature y distance suenan bien\n",
    "\n",
    "pistas = [\"average\", \"temperature\", \"distance\"]\n",
    "# Ciclo for para recorrer la cadena\n",
    "# en esta Ocasion use una list Comprehension para hacer el ciclo, \n",
    "# Aprendi esto en stackOverflow aunque confieso que no lo comprendo completamente\n",
    "frases = [s for s in en_oraciones if any(sf in s for sf in pistas)]\n",
    "print(frases)\n",
    "\n",
    "# Ciclo para cambiar C a Celsius\n",
    "# Para esto repito el ciclo esta vez sobre la lista de frase\n",
    "# ulilizo la funcion replace() para encontrar y remplazar cada \"C\"\n",
    "for cada_una in frases:\n",
    "    print(cada_una.replace(\"C\", \"Celcius\"))\n",
    "    \n"
   ]
  },
  {
   "cell_type": "markdown",
   "metadata": {},
   "source": [
    "## Ejercicio 2: Formateando Cadenas"
   ]
  },
  {
   "cell_type": "code",
   "execution_count": 4,
   "metadata": {},
   "outputs": [
    {
     "name": "stdout",
     "output_type": "stream",
     "text": [
      "Gravity Facts about Moon\n",
      "--------------------------------------------------------------------------------\n",
      "Planet Name: Earth\n",
      "Gravity on Moon: 1.6199999999999999 m/s2\n"
     ]
    }
   ],
   "source": [
    "def datos_sobre_gravedad(moon, planet, gravedad):\n",
    "    print(\"Gravity Facts about \" + moon)\n",
    "    print(\"-\" * 80)\n",
    "    print(\"Planet Name: \" + planet)\n",
    "    print(\"Gravity on \" + moon + \": \" + str(gravedad * 1000) + \" m/s2\")\n",
    "datos_sobre_gravedad(\"Moon\", \"Earth\", 0.00162)"
   ]
  }
 ],
 "metadata": {
  "interpreter": {
   "hash": "5f8d009a97c66a2f35b4bed4222818caec61498fd449cdfd432ebe0221aab98b"
  },
  "kernelspec": {
   "display_name": "Python 3.10.2 64-bit (windows store)",
   "language": "python",
   "name": "python3"
  },
  "language_info": {
   "codemirror_mode": {
    "name": "ipython",
    "version": 3
   },
   "file_extension": ".py",
   "mimetype": "text/x-python",
   "name": "python",
   "nbconvert_exporter": "python",
   "pygments_lexer": "ipython3",
   "version": "3.10.2"
  },
  "orig_nbformat": 4
 },
 "nbformat": 4,
 "nbformat_minor": 2
}
