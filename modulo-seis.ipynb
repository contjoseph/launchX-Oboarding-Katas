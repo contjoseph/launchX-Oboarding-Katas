{
 "cells": [
  {
   "cell_type": "markdown",
   "metadata": {},
   "source": [
    "# Katas del modulo 6 creado por Jose A. Contreras"
   ]
  },
  {
   "cell_type": "markdown",
   "metadata": {},
   "source": [
    "## Ejercicio 1: Crear y usar listas de python "
   ]
  },
  {
   "cell_type": "code",
   "execution_count": 3,
   "metadata": {},
   "outputs": [
    {
     "name": "stdout",
     "output_type": "stream",
     "text": [
      "8\n",
      "Pluton\n"
     ]
    }
   ],
   "source": [
    "# Creamos la lista planets y la mostramos\n",
    "planetas = [\"Mercurio\",\"Venus\", \"Tierra\", \"Marte\", \"Jupiter\", \"Saturno\", \"Urano\", \"Neptuno\"]\n",
    "print(len(planetas))\n",
    "\n",
    "# Agregamos a plutón y mostramos el último elemento\n",
    "planetas.append(\"Pluton\")\n",
    "print(planetas[-1])\n"
   ]
  },
  {
   "cell_type": "markdown",
   "metadata": {},
   "source": [
    "## Ejercicio dos: Trabajando con datos de una lista"
   ]
  },
  {
   "cell_type": "code",
   "execution_count": null,
   "metadata": {},
   "outputs": [],
   "source": [
    "# Lista de planetas\n",
    "planets = [\"Mercurio\",\"Venus\", \"Tierra\", \"Marte\", \"Jupiter\", \"Saturno\", \"Urano\", \"Neptuno\"]\n",
    "\n",
    "# Solicitamos el nombre de un planeta *Pista:  input()*\n",
    "planeta = input(\"Escriba el nombre de un planeta: \")\n",
    "while planeta.capitalize() not in planets: \n",
    "    print(\"El planeta no esta en la lista. Verifique la escritura.\")\n",
    "    print(\"=\" * 20 )\n",
    "    print()\n",
    "    planeta = input(\"Escriba el nombre de un planeta: \")\n",
    "\n",
    "# Busca el planeta en la lista\n",
    "indice = planets.index(planeta.capitalize())\n",
    "print(indice)\n",
    "\n",
    "# Muestra los planetas más cercanos al sol\n",
    "planetas_mas_cercanos_al_sol = planets[:indice]\n",
    "print(planetas_mas_cercanos_al_sol)\n",
    "# Muestra los planetas más lejanos al sol\n",
    "planetas_mas_lejanos_del_sol = planets[(indice+1):]\n",
    "print(planetas_mas_lejanos_del_sol)"
   ]
  }
 ],
 "metadata": {
  "interpreter": {
   "hash": "5f8d009a97c66a2f35b4bed4222818caec61498fd449cdfd432ebe0221aab98b"
  },
  "kernelspec": {
   "display_name": "Python 3.10.2 64-bit (windows store)",
   "language": "python",
   "name": "python3"
  },
  "language_info": {
   "codemirror_mode": {
    "name": "ipython",
    "version": 3
   },
   "file_extension": ".py",
   "mimetype": "text/x-python",
   "name": "python",
   "nbconvert_exporter": "python",
   "pygments_lexer": "ipython3",
   "version": "3.10.2"
  },
  "orig_nbformat": 4
 },
 "nbformat": 4,
 "nbformat_minor": 2
}
