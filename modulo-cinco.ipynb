{
 "cells": [
  {
   "cell_type": "markdown",
   "metadata": {},
   "source": [
    "# Kata del modulo 5 Creado por Jose A. Contreras"
   ]
  },
  {
   "cell_type": "markdown",
   "metadata": {},
   "source": [
    "## Ejercicio uno- Utilizar operadores aritmeticos "
   ]
  },
  {
   "cell_type": "code",
   "execution_count": 3,
   "metadata": {},
   "outputs": [
    {
     "name": "stdout",
     "output_type": "stream",
     "text": [
      "Distancia en kilometros: 628949330\n",
      "Distancia en millas: 390810874.13143003\n"
     ]
    }
   ],
   "source": [
    "# Crear variables para almacenar las dos distancias\n",
    "# ¡Asegúrate de quitar las comas!\n",
    "tierra = 149_597_870\n",
    "jupiter = 778_547_200\n",
    "\n",
    "# Calcular la distancia entre planetas\n",
    "distancia = jupiter - tierra\n",
    "print(\"Distancia en kilometros: \" + str(distancia))\n",
    "millas = distancia * 0.621_371\n",
    "print(\"Distancia en millas: \" + str(millas))\n"
   ]
  },
  {
   "cell_type": "markdown",
   "metadata": {},
   "source": [
    "## Ejercicio Dos"
   ]
  },
  {
   "cell_type": "code",
   "execution_count": null,
   "metadata": {},
   "outputs": [],
   "source": [
    "print(\"Este programa calcula la distancia entre dos planetas\")\n",
    "planeta_uno = int(input(\"Cual es la distancia(Km) entre el sol y el planeta uno? \"))\n",
    "planeta_dos = int(input(\"Cual es la distancia(Km) entre el sol y el planeta dos? \"))\n",
    "distancia_entre_planetas = abs(planeta_dos - planeta_uno)\n",
    "print(\"La distancia entre los dos planetas(Km): \" + str(distancia_entre_planetas))\n",
    "print(\"La distancia entre los dos planetas(Millas): \" + str(distancia_entre_planetas * 0.621371))"
   ]
  }
 ],
 "metadata": {
  "interpreter": {
   "hash": "5f8d009a97c66a2f35b4bed4222818caec61498fd449cdfd432ebe0221aab98b"
  },
  "kernelspec": {
   "display_name": "Python 3.10.2 64-bit (windows store)",
   "language": "python",
   "name": "python3"
  },
  "language_info": {
   "codemirror_mode": {
    "name": "ipython",
    "version": 3
   },
   "file_extension": ".py",
   "mimetype": "text/x-python",
   "name": "python",
   "nbconvert_exporter": "python",
   "pygments_lexer": "ipython3",
   "version": "3.10.2"
  },
  "orig_nbformat": 4
 },
 "nbformat": 4,
 "nbformat_minor": 2
}
