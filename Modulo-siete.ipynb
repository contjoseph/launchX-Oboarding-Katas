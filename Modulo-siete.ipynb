{
 "cells": [
  {
   "cell_type": "markdown",
   "metadata": {},
   "source": [
    "# Katas del modulo 7 - Creado por Jose A. Contreras"
   ]
  },
  {
   "cell_type": "markdown",
   "metadata": {},
   "source": [
    "## Ejercicio 1: creacion de un buble \"While\""
   ]
  },
  {
   "cell_type": "code",
   "execution_count": null,
   "metadata": {},
   "outputs": [],
   "source": [
    "planets = []\n",
    "new_planet = input(\"Introduzca un nuevo planeta: \")\n",
    "while new_planet != \"done\":\n",
    "    if new_planet != \"\":\n",
    "        planets.append(new_planet)\n",
    "    new_planet = input(\"Introduzca un nuevo planeta (o 'done' para terminar): \")\n",
    "print(\"=\" *20)\n",
    "print(\"Los planetas introducidos son: \")\n",
    "for planet in planets:\n",
    "    print(planet)"
   ]
  }
 ],
 "metadata": {
  "language_info": {
   "name": "python"
  },
  "orig_nbformat": 4
 },
 "nbformat": 4,
 "nbformat_minor": 2
}
