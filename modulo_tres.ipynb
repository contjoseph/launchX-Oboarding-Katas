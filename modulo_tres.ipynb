{
 "cells": [
  {
   "cell_type": "markdown",
   "metadata": {},
   "source": [
    "# Kata del modulo tres creado por Jose A. Contreras"
   ]
  },
  {
   "cell_type": "markdown",
   "metadata": {},
   "source": [
    "## Ejercicio de usar if, elfi, else"
   ]
  },
  {
   "cell_type": "code",
   "execution_count": null,
   "metadata": {},
   "outputs": [],
   "source": [
    "# Añadir el código necesario para crear una variable que guarde la velocidad del asteroide.\n",
    "# Escribe una expresión de prueba para calcular si necesita una advertencia.\n",
    "# Agregue las instrucciones que se ejecutarán si la expresión de prueba es true o false.\n",
    "velocidad = 49\n",
    "if velocidad > 25:\n",
    "    print(\"ADVERTENCIA! SE APROXIMA ASTEROIDE\")\n",
    "\n",
    "# No se agrego un else por que la advertencia solo se ejecuta cuando es necesario. \n",
    "# A nada le gusta recibir notificaciones inecesarias.  "
   ]
  },
  {
   "cell_type": "code",
   "execution_count": null,
   "metadata": {},
   "outputs": [],
   "source": [
    "# Agrega el código para crear una variable para un asteroide que viaja a 19 km/s\n",
    "# Escribe varias expresiones de prueba para determinar si puedes ver el rayo de luz desde la tierra\n",
    "# Agrega las instrucciones que se ejecutarán si las expresiones de prueba son True o False\n",
    "velocidad = 19\n",
    "if velocidad >= 20:\n",
    "    print(\"Se puede ver un asteroide en el cielo\")\n",
    "\n",
    "# No se agrego un else por que la advertencia solo se ejecuta cuando es necesario. \n",
    "# A nada le gusta recibir notificaciones inecesarias."
   ]
  },
  {
   "cell_type": "code",
   "execution_count": null,
   "metadata": {},
   "outputs": [],
   "source": [
    "# Agrega el código para crear nuevas variables para la velocidad y el tamaño del asteroide\n",
    "# Para probar el código, prueba con varias velocidades y tamaños\n",
    "# Escribe varias expresiones de prueba o combinaciones de expresiones de prueba para determinar qué mensaje se debe enviar a Tierra.\n",
    "velocidad = 36\n",
    "diametro = 26\n",
    "if velocidad > 25 and diametro > 25:\n",
    "    print(\"VAMOS A MORIR!!\")\n",
    "elif velocidad > 20 and diametro < 25:\n",
    "    print(\"Se puede ver un asteroide en el cielo\")\n",
    "elif velocidad > 25 and diametro < 25:\n",
    "    print(\"ADVERTENCIA! SE APROXIMA ASTEROIDE\")\n",
    "\n",
    "#Estas son las tres advertencias de las cuales la gente de la tierra debe de saber. \n"
   ]
  }
 ],
 "metadata": {
  "language_info": {
   "name": "python"
  },
  "orig_nbformat": 4
 },
 "nbformat": 4,
 "nbformat_minor": 2
}
