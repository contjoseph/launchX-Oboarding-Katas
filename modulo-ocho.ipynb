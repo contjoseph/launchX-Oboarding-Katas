{
 "cells": [
  {
   "cell_type": "markdown",
   "metadata": {},
   "source": [
    "# # Katas del modulo 8 - Creado por Jose A. Contreras"
   ]
  },
  {
   "cell_type": "markdown",
   "metadata": {},
   "source": [
    "## Ejercicio 1: Creacion de diccionarios en python "
   ]
  },
  {
   "cell_type": "code",
   "execution_count": 12,
   "metadata": {},
   "outputs": [
    {
     "name": "stdout",
     "output_type": "stream",
     "text": [
      "Mars 6752\n"
     ]
    }
   ],
   "source": [
    "# Crea un diccionario llamado planet con los datos propuestos\n",
    "planet = {\"name\": \"Mars\", \"Moons\": 2}\n",
    "\n",
    "# Muestra el nombre del planeta y el número de lunas que tiene.\n",
    "planet[\"name\"]\n",
    "\n",
    "# Agrega la clave circunferencia con los datos proporcionados previamente\n",
    "planet[\"polar\"] = 6752\n",
    "planet[\"ecuatorial\"] = 6792\n",
    "\n",
    "# Imprime el nombre del planeta con su circunferencia polar.\n",
    "print(planet[\"name\"], planet[\"polar\"])"
   ]
  },
  {
   "cell_type": "markdown",
   "metadata": {},
   "source": [
    "## Ejercicio 2: Programmacion dinamica con diccionarios"
   ]
  },
  {
   "cell_type": "code",
   "execution_count": 14,
   "metadata": {},
   "outputs": [
    {
     "name": "stdout",
     "output_type": "stream",
     "text": [
      "Hay un total de 214 lunas en el sistema solar\n",
      "Hay un promedio de 17.833333333333332 lunas por planeta\n"
     ]
    }
   ],
   "source": [
    "# Planets and moons\n",
    "\n",
    "planet_moons = {\n",
    "    'mercury': 0,\n",
    "    'venus': 0,\n",
    "    'earth': 1,\n",
    "    'mars': 2,\n",
    "    'jupiter': 79,\n",
    "    'saturn': 82,\n",
    "    'uranus': 27,\n",
    "    'neptune': 14,\n",
    "    'pluto': 5,\n",
    "    'haumea': 2,\n",
    "    'makemake': 1,\n",
    "    'eris': 1\n",
    "}\n",
    "\n",
    "# Añade el código para determinar el número de lunas.\n",
    "moons = 0\n",
    "for value in planet_moons.values():\n",
    "    moons = moons + value\n",
    "print(f\"Hay un total de {moons} lunas en el sistema solar\")\n",
    "\n",
    "#mostrar el promedio de lunas para los planetas\n",
    "num_de_planetas = len(planet_moons.keys())\n",
    "print(f\"Hay un promedio de {moons/num_de_planetas} lunas por planeta\")"
   ]
  }
 ],
 "metadata": {
  "interpreter": {
   "hash": "5f8d009a97c66a2f35b4bed4222818caec61498fd449cdfd432ebe0221aab98b"
  },
  "kernelspec": {
   "display_name": "Python 3.10.2 64-bit (windows store)",
   "language": "python",
   "name": "python3"
  },
  "language_info": {
   "codemirror_mode": {
    "name": "ipython",
    "version": 3
   },
   "file_extension": ".py",
   "mimetype": "text/x-python",
   "name": "python",
   "nbconvert_exporter": "python",
   "pygments_lexer": "ipython3",
   "version": "3.10.2"
  },
  "orig_nbformat": 4
 },
 "nbformat": 4,
 "nbformat_minor": 2
}
