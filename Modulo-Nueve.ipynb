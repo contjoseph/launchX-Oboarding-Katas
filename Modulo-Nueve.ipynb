{
 "cells": [
  {
   "cell_type": "markdown",
   "metadata": {},
   "source": [
    "# Katas del modulo 9 - Creado por Jose A. Contreras"
   ]
  },
  {
   "cell_type": "markdown",
   "metadata": {},
   "source": [
    "## Ejercicio uno: Uso de funciones en Python"
   ]
  },
  {
   "cell_type": "code",
   "execution_count": null,
   "metadata": {},
   "outputs": [],
   "source": [
    "# Función para leer 3 tanques de combustible y muestre el promedio\n",
    "def combustible_de_tres_tanques(tanque_a, tanque_b, tanque_c):\n",
    "    promedio = promedio_de_tres(tanque_a, tanque_b, tanque_c)\n",
    "    return f\"\"\"Informe del combustible: \n",
    "        Promedio total: {promedio}\n",
    "        Combustible en tanque a: {tanque_a}\n",
    "        Combustible en tanque b: {tanque_b}\n",
    "        Combustible en tanque c: {tanque_c}\"\"\"\n",
    "    \n",
    "def promedio_de_tres(a, b, c):\n",
    "    total = a + b + c\n",
    "    return total/3\n",
    "\n",
    "# Llamamos a la función que genera el reporte print(funcion(tanque1, tanque2, tanque3))\n",
    "print(combustible_de_tres_tanques(80,70,85))\n"
   ]
  },
  {
   "cell_type": "markdown",
   "metadata": {},
   "source": [
    "## Ejercicio dos: Trabajo con argumentos de palabra clave"
   ]
  },
  {
   "cell_type": "code",
   "execution_count": null,
   "metadata": {},
   "outputs": [],
   "source": [
    "# Función con un informe preciso de la misión. Considera hora de prelanzamiento, tiempo de vuelo, destino, tanque externo y tanque interno\n",
    "# esta Kata se me hiso muy dificil y no la pude realizar por mi propia cuenta\n",
    "# Basicamente me enfoque en tratar de entender la solucion. \n",
    "def reporte_de_mision(prelanzamiento, tiempo_de_vuelo, destino, tanque_externo, tanque_interno):\n",
    "    return f\"\"\"\n",
    "    Mision a:  {destino}\n",
    "    Tiempo de viaje total: {prelanzamiento + tiempo_de_vuelo} minutos\n",
    "    Combustible disponible: {tanque_externo + tanque_interno} gallons\n",
    "    \"\"\"\n",
    "\n",
    "print(reporte_de_mision(14, 51, \"Luna\", 200000, 300000))\n",
    "\n",
    "# Escribe tu nueva función de reporte considerando lo anterior\n",
    "def reporte_de_mision(destino, *minutos_de_viaje, **combustible):\n",
    "    return f\"\"\"\n",
    "    Mision a: {destino}\n",
    "    Tiempo de viaje total: {sum(minutos_de_viaje)} minutos\n",
    "    Combustible disponible: {sum(combustible.values())}\n",
    "    \"\"\"\n",
    "\n",
    "print(reporte_de_mision(\"Moon\", 10, 15, 51, main=300000, external=200000))\n",
    "\n",
    "# Escribe tu nueva función\n",
    "def reporte_de_mision(destino, *minutos_de_viaje, **combustible):\n",
    "    main_report = f\"\"\"\n",
    "    Mision a: {destino}\n",
    "    Tiempo de viaje total: {sum(minutos_de_viaje)} minutos\n",
    "    Combustible disponible: {sum(combustible.values())}\n",
    "    \"\"\"\n",
    "    for tank_name, gallons in combustible.items():\n",
    "        main_report += f\"{tank_name} tank --> {gallons} galones disponibles\\n\"\n",
    "    return main_report\n",
    "\n",
    "print(reporte_de_mision(\"Moon\", 8, 11, 55, taque_interior=300000, tanque_exterior=200000))"
   ]
  }
 ],
 "metadata": {
  "language_info": {
   "name": "python"
  },
  "orig_nbformat": 4
 },
 "nbformat": 4,
 "nbformat_minor": 2
}
